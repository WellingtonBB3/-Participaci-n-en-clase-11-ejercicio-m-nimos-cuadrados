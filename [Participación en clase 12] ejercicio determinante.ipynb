{
 "cells": [
  {
   "cell_type": "markdown",
   "metadata": {},
   "source": [
    "# Nombre: Wellington Barros\n",
    "**2. Determinante**"
   ]
  },
  {
   "cell_type": "code",
   "execution_count": 1,
   "metadata": {},
   "outputs": [],
   "source": [
    "%load_ext autoreload\n"
   ]
  },
  {
   "cell_type": "code",
   "execution_count": 20,
   "metadata": {},
   "outputs": [
    {
     "name": "stdout",
     "output_type": "stream",
     "text": [
      "detA = 9912776.000000004\n",
      "El sistema tiene una solución única.\n"
     ]
    }
   ],
   "source": [
    "\n",
    "import sys\n",
    "import os\n",
    "\n",
    "# Añadir el directorio actual al sys.path\n",
    "sys.path.append(os.path.abspath('.'))\n",
    "\n",
    "from src import (\n",
    "    eliminacion_gaussiana,\n",
    "    descomposicion_LU,\n",
    "    resolver_LU,\n",
    "    matriz_aumentada,\n",
    "    separar_m_aumentada,\n",
    ")\n",
    "\n",
    "def calc_determinante(A: list[list[float]]) -> float:\n",
    "    \"\"\"Función que calcula el determinante usando el método de descomposición LU.\n",
    "\n",
    "    ## Parameters\n",
    "    ``A``: Matriz cuadrada de tamaño n x n\n",
    "\n",
    "    ## Return\n",
    "    ``detA``: Determinante de la matriz A\n",
    "\n",
    "    \"\"\"\n",
    "    # Realizar la descomposición LU\n",
    "    L, U = descomposicion_LU(A)\n",
    "    \n",
    "    # Calcular el determinante como el producto de los elementos diagonales de U\n",
    "    detA = 1.0\n",
    "    for i in range(len(U)):\n",
    "        detA *= U[i][i]\n",
    "    \n",
    "    return detA\n",
    "\n",
    "# Ejercicio 1\n",
    "A = [\n",
    "    [-4, 2, -4, -4, 1, 2, 5, 3, 5, 1],\n",
    "    [1, 0, 4, 3, 0, -2, 3, 0, 1, 5],\n",
    "    [5, 5, -4, 5, -4, 2, 2, 2, 4, 4],\n",
    "    [-1, 3, 4, -1, -4, 0, 5, 0, 0, 5],\n",
    "    [4, 1, 4, 2, 0, 0, 3, -1, 0, 2],\n",
    "    [2, -2, 1, -1, -2, -3, 2, -2, 4, -1],\n",
    "    [3, -2, -3, -2, -1, -3, 5, -1, 5, 0],\n",
    "    [3, 4, -3, 3, -2, 2, -4, -4, 1, 5],\n",
    "    [-4, 0, 3, 3, -3, -2, -2, 0, 5, -4],\n",
    "    [-2, 4, 4, -2, -1, 1, 5, -1, 3, -3]\n",
    "]\n",
    "\n",
    "detA = calc_determinante(A)\n",
    "print(f\"detA = {detA:.9f}\")\n",
    "\n",
    "# Determinar el tipo de solución del sistema de ecuaciones con matriz A\n",
    "if detA == 0:\n",
    "    print(\"El sistema tiene infinitas soluciones o no tiene solución.\")\n",
    "else:\n",
    "    print(\"El sistema tiene una solución única.\")"
   ]
  },
  {
   "cell_type": "code",
   "execution_count": 19,
   "metadata": {},
   "outputs": [
    {
     "name": "stdout",
     "output_type": "stream",
     "text": [
      "detA2 = 2341546.0\n"
     ]
    }
   ],
   "source": [
    "%autoreload 2\n",
    "from src import (\n",
    "    eliminacion_gaussiana,\n",
    "    descomposicion_LU,\n",
    "    resolver_LU,\n",
    "    matriz_aumentada,\n",
    "    separar_m_aumentada,\n",
    ")\n",
    "\n",
    "def calc_determinante(A: list[list[float]]) -> float:\n",
    "    \"\"\"Función que calcula el determinante usando el método de eliminación gaussiana con pivoteo parcial.\n",
    "\n",
    "    ## Parameters\n",
    "    ``A``: Matriz cuadrada de tamaño n x n\n",
    "\n",
    "    ## Return\n",
    "    ``detA``: Determinante de la matriz A\n",
    "    \"\"\"\n",
    "    n = len(A)\n",
    "    \n",
    "    U = [row[:] for row in A]\n",
    "    detA = 1\n",
    "    for i in range(n):\n",
    "        max_row = i\n",
    "        for k in range(i + 1, n):\n",
    "            if abs(U[k][i]) > abs(U[max_row][i]):\n",
    "                max_row = k\n",
    "        if i != max_row:\n",
    "            U[i], U[max_row] = U[max_row], U[i]\n",
    "            detA *= -1\n",
    "        if U[i][i] == 0:\n",
    "            return 0\n",
    "        for k in range(i + 1, n):\n",
    "            factor = U[k][i] / U[i][i]\n",
    "            for j in range(i, n):\n",
    "                U[k][j] -= factor * U[i][j]\n",
    "    for i in range(n):\n",
    "        detA *= U[i][i]\n",
    "    return round(detA, 9)\n",
    "\n",
    "# Matriz de ejemplo A2\n",
    "A2 = [\n",
    "    [2, 2, 4, 5, -2, -3, 2, -2],\n",
    "    [-1, -1, 3, 2, 1, 1, -4, 4],\n",
    "    [2, 5, -3, -3, -2, 2, 5, 3],\n",
    "    [-2, -4, 0, 1, -1, 5, -4, -1],\n",
    "    [1, -2, -1, 5, 5, 2, 1, -2],\n",
    "    [5, 4, 0, 3, 4, -1, -3, -2],\n",
    "    [4, -4, 1, 2, 3, 3, -1, 3],\n",
    "    [-2, 1, -3, 0, 5, 4, 4, -4]\n",
    "]\n",
    "\n",
    "# Calcular el determinante de A2\n",
    "detA2 = calc_determinante(A2)\n",
    "print(f\"detA2 = {detA2}\")"
   ]
  }
 ],
 "metadata": {
  "kernelspec": {
   "display_name": "base",
   "language": "python",
   "name": "python3"
  },
  "language_info": {
   "codemirror_mode": {
    "name": "ipython",
    "version": 3
   },
   "file_extension": ".py",
   "mimetype": "text/x-python",
   "name": "python",
   "nbconvert_exporter": "python",
   "pygments_lexer": "ipython3",
   "version": "3.12.4"
  }
 },
 "nbformat": 4,
 "nbformat_minor": 2
}
